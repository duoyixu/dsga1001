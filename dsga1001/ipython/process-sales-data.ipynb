{
 "cells": [
  {
   "cell_type": "markdown",
   "metadata": {},
   "source": [
    "# Combine raw data files into one dataframe"
   ]
  },
  {
   "cell_type": "code",
   "execution_count": 38,
   "metadata": {},
   "outputs": [],
   "source": [
    "# all imports\n",
    "import pandas as pd\n",
    "import numpy as np\n",
    "import matplotlib.pyplot as plt\n",
    "\n",
    "import os.path\n",
    "import itertools"
   ]
  },
  {
   "cell_type": "code",
   "execution_count": 39,
   "metadata": {},
   "outputs": [],
   "source": [
    "colnames = ['borough',\n",
    "            'neighborhood',\n",
    "            'building_class_category',\n",
    "            'tax_class_present', #can appear as \"tax class as of final roll date\" in some files\n",
    "            'block',\n",
    "            'lot',\n",
    "            'easement',\n",
    "            'building_class_present', #can appear as \"building class as of final roll date\" in some files\n",
    "            'address',\n",
    "            'apt_number', #can appear as NaN in some files -- included in the \"address\" field\n",
    "            'zipcode',\n",
    "            'residential_units',\n",
    "            'commercial_units',\n",
    "            'total_units',\n",
    "            'land_sqft',\n",
    "            'gross_sqft',\n",
    "            'year_built',\n",
    "            'tax_class_at_sale',\n",
    "            'building_class_at_sale',\n",
    "            'sale_price',\n",
    "            'sale_date']"
   ]
  },
  {
   "cell_type": "code",
   "execution_count": 40,
   "metadata": {
    "scrolled": false
   },
   "outputs": [],
   "source": [
    "def read_in_data(filename):\n",
    "    '''\n",
    "    read in the file as a dataframe, skipping the first 4 rows.\n",
    "    standardize the column names\n",
    "    '''\n",
    "    df = pd.read_excel(filename, skiprows=[0,1,2,3])\n",
    "    \n",
    "    #df = df.rename(str.lower, axis='columns')\n",
    "    #df = df.rename((lambda colname : colname.rstrip()), axis='columns')\n",
    "    #df = df.rename(columns={ df.columns[3]: \"tax_class_present\" }, inplace = True)\n",
    "    \n",
    "    df.columns = colnames\n",
    "    return df"
   ]
  },
  {
   "cell_type": "code",
   "execution_count": null,
   "metadata": {},
   "outputs": [],
   "source": [
    "# read in all files (all years, all boroughs), concatenate as one df, and export to CSV\n",
    "\n",
    "path = '../data/'\n",
    "years = list(range(2011, 2020))\n",
    "boroughs = ['bronx', 'brooklyn', 'manhattan', 'queens', 'statenisland']\n",
    "\n",
    "frames = []\n",
    "\n",
    "for year, borough in itertools.product(years, boroughs):\n",
    "    filename = path + str(year) + '_' + borough + '.xls'\n",
    "    data = read_in_data(filename)\n",
    "    frames.append(data)\n",
    "\n",
    "df = pd.concat(frames)\n",
    "\n",
    "display(df)\n",
    "print(df.shape) #confirm 21 columns"
   ]
  },
  {
   "cell_type": "markdown",
   "metadata": {},
   "source": [
    "# Examining data\n",
    "[Data dictionary](https://www1.nyc.gov/assets/finance/downloads/pdf/07pdf/glossary_rsf071607.pdf)"
   ]
  },
  {
   "cell_type": "code",
   "execution_count": null,
   "metadata": {
    "scrolled": true
   },
   "outputs": [],
   "source": [
    "building_class_vals = df.building_class_category.unique()\n",
    "building_class_vals.sort()\n",
    "print(building_class_vals)"
   ]
  },
  {
   "cell_type": "markdown",
   "metadata": {},
   "source": [
    "# Cleaning data"
   ]
  },
  {
   "cell_type": "code",
   "execution_count": null,
   "metadata": {},
   "outputs": [],
   "source": [
    "# make a copy dataframe and clean; drop some unnecessary cols\n",
    "clean = df"
   ]
  },
  {
   "cell_type": "code",
   "execution_count": null,
   "metadata": {},
   "outputs": [],
   "source": [
    "# Changed this to not drop block, lot, easement\n",
    "dropcols = ['tax_class_present',\n",
    "            #'block',\n",
    "            #'lot',\n",
    "            #'easement',\n",
    "            'building_class_present'\n",
    "            #'tax_class_at_sale',\n",
    "            #'building_class_at_sale'\n",
    "           ]\n",
    "clean = clean.drop(dropcols, axis=1)"
   ]
  },
  {
   "cell_type": "code",
   "execution_count": null,
   "metadata": {},
   "outputs": [],
   "source": [
    "# dispose rows where sale price is zero (ownership transfer events)\n",
    "clean = clean[clean.sale_price != 0]\n",
    "print(f'This removed {773881 - clean.shape[0]} values out of formerly {773881}, now {clean.shape[0]} are left.')"
   ]
  },
  {
   "cell_type": "code",
   "execution_count": null,
   "metadata": {},
   "outputs": [],
   "source": [
    "# only keep Tax Class 1 and 2 records\n",
    "clean = clean[clean['tax_class_at_sale'].isin([1, 2])]\n",
    "clean.tax_class_at_sale.unique()"
   ]
  },
  {
   "cell_type": "code",
   "execution_count": null,
   "metadata": {},
   "outputs": [],
   "source": [
    "# clean apartment numbers\n",
    "new = clean['address'].str.split(',', n=1, expand=True)\n",
    "\n",
    "new[1] = new[1].transform(lambda val : val.str.strip())\n",
    "new[1].unique()\n",
    "\n",
    "clean['address'] = new[0]\n",
    "clean['apt_2'] = new[1]\n",
    "# TODO: need to merge apt and apt_2 cleanly"
   ]
  },
  {
   "cell_type": "code",
   "execution_count": null,
   "metadata": {},
   "outputs": [],
   "source": [
    "# add column for (sale price / total_units)\n",
    "clean['sale_price_per_unit'] = clean['sale_price'] / clean['total_units']"
   ]
  },
  {
   "cell_type": "code",
   "execution_count": null,
   "metadata": {},
   "outputs": [],
   "source": [
    "display(clean)"
   ]
  },
  {
   "cell_type": "markdown",
   "metadata": {},
   "source": [
    "# Pickle the cleaned dataframe\n",
    "[pandas.DataFrame.to_pickle documentation](https://pandas.pydata.org/pandas-docs/stable/reference/api/pandas.DataFrame.to_pickle.html)"
   ]
  },
  {
   "cell_type": "code",
   "execution_count": null,
   "metadata": {},
   "outputs": [],
   "source": [
    "picklefile = '../data/sales_combined.pkl'\n",
    "clean.to_pickle(picklefile)"
   ]
  },
  {
   "cell_type": "code",
   "execution_count": null,
   "metadata": {},
   "outputs": [],
   "source": [
    "# test reading in pickle\n",
    "pickle_df = pd.read_pickle(picklefile)\n",
    "#display(pickle_df)"
   ]
  },
  {
   "cell_type": "markdown",
   "metadata": {},
   "source": [
    "# [Optional] Export combined dataframe to CSV"
   ]
  },
  {
   "cell_type": "code",
   "execution_count": null,
   "metadata": {},
   "outputs": [],
   "source": [
    "exportfile = '../data/sales_combined.csv'\n",
    "df.to_csv(exportfile, index=False)\n",
    "\n",
    "# assert that the exported CSV file exists\n",
    "os.path.isfile(exportfile)"
   ]
  },
  {
   "cell_type": "code",
   "execution_count": null,
   "metadata": {},
   "outputs": [],
   "source": [
    "# check the newly produced CSV file\n",
    "combined_data = pd.read_csv(exportfile)\n",
    "\n",
    "display(combined_data)\n",
    "print(combined_data.shape)"
   ]
  },
  {
   "cell_type": "markdown",
   "metadata": {},
   "source": [
    "# TODO\n",
    "+ standardize building class category\n",
    "+ clean apt number"
   ]
  },
  {
   "cell_type": "code",
   "execution_count": null,
   "metadata": {},
   "outputs": [],
   "source": []
  }
 ],
 "metadata": {
  "kernelspec": {
   "display_name": "Python 3",
   "language": "python",
   "name": "python3"
  },
  "language_info": {
   "codemirror_mode": {
    "name": "ipython",
    "version": 3
   },
   "file_extension": ".py",
   "mimetype": "text/x-python",
   "name": "python",
   "nbconvert_exporter": "python",
   "pygments_lexer": "ipython3",
   "version": "3.8.3"
  }
 },
 "nbformat": 4,
 "nbformat_minor": 4
}
