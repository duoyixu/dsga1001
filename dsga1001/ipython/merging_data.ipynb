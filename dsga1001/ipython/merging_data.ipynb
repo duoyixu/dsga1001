{
 "cells": [
  {
   "cell_type": "markdown",
   "metadata": {},
   "source": [
    "# Combining datasets into one dataframe"
   ]
  },
  {
   "cell_type": "code",
   "execution_count": 10,
   "metadata": {},
   "outputs": [],
   "source": [
    "import pandas as pd\n",
    "import numpy as np\n",
    "import matplotlib.pyplot as plt\n",
    "\n",
    "import os.path\n",
    "import itertools"
   ]
  },
  {
   "cell_type": "markdown",
   "metadata": {},
   "source": [
    "## Create Index\n",
    "\n",
    "The BBL number is going to be ideal for indexing as it is used for this purpose by the NYC databases. \n",
    "\n",
    "https://www.pincusco.com/data-dictionary/bbl-also-known-as-borough-block-and-lot-or-property-id/\n",
    "\n",
    "\n",
    "https://www.propertyshark.com/Real-Estate-Reports/2018/12/13/all-you-need-to-know-about-nycs-bbl/#:~:text=BBL%20stands%20for%20borough%2C%20block,1%20%3D%20Manhattan"
   ]
  },
  {
   "cell_type": "code",
   "execution_count": 38,
   "metadata": {},
   "outputs": [],
   "source": [
    "# Import the sales data from pckl\n",
    "sales_pckl = '../data/sales_combined.pkl'\n",
    "\n",
    "# This is the path to retrieve files one above the github directory\n",
    "above = '../../../'\n",
    "# Import valuation data using the above directory\n",
    "valuation_pckl = above + 'assessment_og.pkl'\n",
    "\n",
    "# Read the datasets into dataframes\n",
    "sales = pd.read_pickle(sales_pckl)\n",
    "valuation = pd.read_pickle(valuation_pckl)"
   ]
  },
  {
   "cell_type": "code",
   "execution_count": 40,
   "metadata": {},
   "outputs": [],
   "source": [
    "# Add the BBL column for indexing to the valuation data\n",
    "valuation['bbl'] = valuation['BORO'].astype(str) + valuation['BLOCK'].astype(str) + valuation['LOT'].astype(str)\n",
    "\n",
    "# Add the BBL column for indexing to the sales data\n",
    "sales['bbl'] = sales['borough'].astype(str) + sales['block'].astype(str) + sales['lot'].astype(str)"
   ]
  },
  {
   "cell_type": "markdown",
   "metadata": {},
   "source": [
    "# Standardizing Columns and a bit of "
   ]
  },
  {
   "cell_type": "code",
   "execution_count": 49,
   "metadata": {},
   "outputs": [
    {
     "data": {
      "text/plain": [
       "array(['FINAL'], dtype=object)"
      ]
     },
     "execution_count": 49,
     "metadata": {},
     "output_type": "execute_result"
    }
   ],
   "source": [
    "valuation.PERIOD.unique()"
   ]
  }
 ],
 "metadata": {
  "kernelspec": {
   "display_name": "Python 3",
   "language": "python",
   "name": "python3"
  },
  "language_info": {
   "codemirror_mode": {
    "name": "ipython",
    "version": 3
   },
   "file_extension": ".py",
   "mimetype": "text/x-python",
   "name": "python",
   "nbconvert_exporter": "python",
   "pygments_lexer": "ipython3",
   "version": "3.8.3"
  }
 },
 "nbformat": 4,
 "nbformat_minor": 4
}
