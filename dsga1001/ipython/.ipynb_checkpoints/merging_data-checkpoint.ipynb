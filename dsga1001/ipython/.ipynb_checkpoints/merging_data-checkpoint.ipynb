{
 "cells": [
  {
   "cell_type": "markdown",
   "metadata": {},
   "source": [
    "# Combining datasets into one dataframe"
   ]
  },
  {
   "cell_type": "code",
   "execution_count": 84,
   "metadata": {},
   "outputs": [],
   "source": [
    "import pandas as pd\n",
    "import numpy as np\n",
    "import matplotlib.pyplot as plt\n",
    "import os.path\n",
    "import itertools\n",
    "\n",
    "from IPython.display import display\n",
    "pd.options.display.max_columns = None"
   ]
  },
  {
   "cell_type": "markdown",
   "metadata": {},
   "source": [
    "## Create Index\n",
    "\n",
    "The BBL number is going to be ideal for indexing as it is used for this purpose by the NYC databases.\n",
    "\n",
    "https://www.pincusco.com/data-dictionary/bbl-also-known-as-borough-block-and-lot-or-property-id/\n",
    "\n",
    "\n",
    "https://www.propertyshark.com/Real-Estate-Reports/2018/12/13/all-you-need-to-know-about-nycs-bbl/#:~:text=BBL%20stands%20for%20borough%2C%20block,1%20%3D%20Manhattan"
   ]
  },
  {
   "cell_type": "code",
   "execution_count": 85,
   "metadata": {},
   "outputs": [],
   "source": [
    "# Import the sales data from pckl\n",
    "sales_pckl = '../data/sales_combined.pkl'\n",
    "\n",
    "# This is the path to retrieve files one above the github directory\n",
    "above = '../../../'\n",
    "# Import valuation data using the above directory\n",
    "valuation_pckl = above + 'assessment_og.pkl'\n",
    "\n",
    "# Read the datasets into dataframes\n",
    "sales = pd.read_pickle(sales_pckl)\n",
    "valuation = pd.read_pickle(valuation_pckl)"
   ]
  },
  {
   "cell_type": "code",
   "execution_count": 86,
   "metadata": {},
   "outputs": [],
   "source": [
    "# Add the BBL column for indexing to the valuation data\n",
    "valuation['bbl'] = valuation['BORO'].astype(str) + valuation['BLOCK'].astype(str) + valuation['LOT'].astype(str)\n",
    "\n",
    "# Add the BBL column for indexing to the sales data\n",
    "sales['bbl'] = sales['borough'].astype(str) + sales['block'].astype(str) + sales['lot'].astype(str)"
   ]
  },
  {
   "cell_type": "markdown",
   "metadata": {},
   "source": [
    "# Standardizing Columns and cleaning Valuation"
   ]
  },
  {
   "cell_type": "code",
   "execution_count": null,
   "metadata": {},
   "outputs": [
    {
     "name": "stdout",
     "output_type": "stream",
     "text": [
      "['FINAL']\n"
     ]
    }
   ],
   "source": [
    "# There is only one value for PERIOD in the valuation dataset so we can drop it.\n",
    "print(valuation.PERIOD.unique())\n",
    "valuation.drop([\"PERIOD\", \"Borough\"], axis=1, inplace = True)"
   ]
  },
  {
   "cell_type": "code",
   "execution_count": null,
   "metadata": {
    "scrolled": true
   },
   "outputs": [],
   "source": [
    "# Change the column names to be lower case, and replace white space with underscores\n",
    "valuation.rename(columns=lambda x: x.lower().replace(\" \", \"_\"), inplace=True)\n",
    " \n",
    "display(valuation)"
   ]
  },
  {
   "cell_type": "code",
   "execution_count": null,
   "metadata": {},
   "outputs": [],
   "source": [
    "# Count the number of bbl values that are in the sales data and are also in the valuation\n",
    "print(sum(sales.bbl.isin(valuation.bbl)))\n",
    "print(f\" There are {sales.shape[0]} total sales and {sales.shape[0] - 486771} missing from appraisal\")"
   ]
  },
  {
   "cell_type": "code",
   "execution_count": null,
   "metadata": {},
   "outputs": [],
   "source": [
    "valuation.year.unique()"
   ]
  },
  {
   "cell_type": "code",
   "execution_count": null,
   "metadata": {},
   "outputs": [],
   "source": [
    "valuation.nta.unique()"
   ]
  },
  {
   "cell_type": "code",
   "execution_count": null,
   "metadata": {},
   "outputs": [],
   "source": []
  },
  {
   "cell_type": "markdown",
   "metadata": {},
   "source": [
    "Convert b: borough the following are the same: block, lot, easement. Need to figure out when the financial assessment year starts to convert datetime values to a year column in the sales data."
   ]
  },
  {
   "cell_type": "code",
   "execution_count": null,
   "metadata": {},
   "outputs": [],
   "source": [
    "colnames = ['borough',\n",
    "            'neighborhood',\n",
    "            'building_class_category',\n",
    "            'tax_class_present', #can appear as \"tax class as of final roll date\" in some files\n",
    "            'block',\n",
    "            'lot',\n",
    "            'easement',\n",
    "            'building_class_present', #can appear as \"building class as of final roll date\" in some files\n",
    "            'address',\n",
    "            'apt_number', #can appear as NaN in some files -- included in the \"address\" field\n",
    "            'zipcode',\n",
    "            'residential_units',\n",
    "            'commercial_units',\n",
    "            'total_units',\n",
    "            'land_sqft',\n",
    "            'gross_sqft',\n",
    "            'year_built',\n",
    "            'tax_class_at_sale',\n",
    "            'building_class_at_sale',\n",
    "            'sale_price',\n",
    "            'sale_date']"
   ]
  }
 ],
 "metadata": {
  "kernelspec": {
   "display_name": "Python 3",
   "language": "python",
   "name": "python3"
  },
  "language_info": {
   "codemirror_mode": {
    "name": "ipython",
    "version": 3
   },
   "file_extension": ".py",
   "mimetype": "text/x-python",
   "name": "python",
   "nbconvert_exporter": "python",
   "pygments_lexer": "ipython3",
   "version": "3.8.3"
  }
 },
 "nbformat": 4,
 "nbformat_minor": 4
}
